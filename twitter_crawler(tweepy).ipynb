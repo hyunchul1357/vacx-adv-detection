{
 "cells": [
  {
   "cell_type": "code",
   "execution_count": 1,
   "metadata": {},
   "outputs": [],
   "source": [
    "import tweepy \n",
    "import pandas as pd\n",
    "import time"
   ]
  },
  {
   "cell_type": "code",
   "execution_count": 2,
   "metadata": {},
   "outputs": [],
   "source": [
    "# Twitter Developers에서 key를 발급받고 키 입력\n",
    "consumer_key = ''\n",
    "consumer_secret = ''\n",
    "access_token = ''\n",
    "access_token_secret = ''\n",
    "\n",
    "# 개인정보 인증요청\n",
    "auth = tweepy.OAuthHandler(consumer_key, consumer_secret)\n",
    " \n",
    "# 엑세스 요청\n",
    "auth.set_access_token(access_token, access_token_secret)\n",
    " \n",
    "# twitter api 생성\n",
    "api = tweepy.API(auth) # , wait_on_rate_limit_notify=True, wait_on_rate_limit=True"
   ]
  },
  {
   "cell_type": "code",
   "execution_count": 3,
   "metadata": {},
   "outputs": [],
   "source": [
    "def process_results(results):\n",
    "    id_list = [tweet.id for tweet in results]\n",
    "    data_set = pd.DataFrame(id_list, columns=[\"id\"])\n",
    "\n",
    "    data_set[\"text\"] = [(tweet.retweeted_status.full_text if hasattr(tweet, 'retweeted_status') else tweet.full_text) for tweet in results]    \n",
    "    #data_set[\"text\"] = [tweet.full_text for tweet in results]    \n",
    "    data_set[\"hashtags\"] = [tweet.entities['hashtags'] for tweet in results]\n",
    "    data_set[\"created_at\"] = [tweet.created_at for tweet in results]\n",
    "    data_set[\"retweet_count\"] = [tweet.retweet_count for tweet in results]\n",
    "    data_set[\"favorite_count\"] = [tweet.favorite_count for tweet in results]\n",
    "    data_set[\"source\"] = [tweet.source for tweet in results]\n",
    "\n",
    "    data_set[\"user_id\"] = [tweet.author.id for tweet in results]\n",
    "    data_set[\"user_screen_name\"] = [tweet.author.screen_name for tweet in results]\n",
    "    data_set[\"user_followers_count\"] = [tweet.author.followers_count for tweet in results]\n",
    "    data_set[\"user_friends_count\"] = [tweet.author.friends_count for tweet in results]\n",
    "    data_set[\"user_location\"] = [tweet.author.location for tweet in results]\n",
    "\n",
    "    return data_set"
   ]
  },
  {
   "cell_type": "code",
   "execution_count": 4,
   "metadata": {},
   "outputs": [
    {
     "name": "stdout",
     "output_type": "stream",
     "text": [
      "sleep 15min..\n",
      "break\n",
      "sleep 15min..\n",
      "break\n",
      "sleep 15min..\n",
      "break\n",
      "sleep 15min..\n",
      "break\n",
      "sleep 15min..\n",
      "break\n",
      "sleep 15min..\n",
      "break\n"
     ]
    }
   ],
   "source": [
    "keyword = 'pfizer' # 검색할 키워드 입력\n",
    "result = [] # 게시글을 저장할 리스트 변수\n",
    "\n",
    "cursor = tweepy.Cursor(api.search, \n",
    "                       q=keyword,\n",
    "                       since='2021-10-13', # 이곳은 오늘로부터 7일 전부터만 가능함. (오늘이 2021-10-12라면 2021-10-05부터 가능) \n",
    "                       until='2021-10-19', # 이곳은 since 날짜의 +1을 하세요 (ex. since=2021-10-05라면 until=2021-10-06으로 설정)\n",
    "                       include_entities=True,\n",
    "                       count=180,\n",
    "                       lang=\"en\",\n",
    "                       tweet_mode='extended').items()\n",
    "while True:\n",
    "    try:\n",
    "        tweet = cursor.next()\n",
    "        result.append(tweet)\n",
    "    except tweepy.TweepError: # request limit에 도달할때마다 저장\n",
    "        data_set = process_results(result) \n",
    "        data_set.to_excel('./dataset/pfizer1013-1019.xlsx', index=False)     \n",
    "        \n",
    "        print('sleep 15min..')\n",
    "        for i in range(15): # 15번 반복\n",
    "            time.sleep(60 * 1) # 1분 휴식        \n",
    "        print('break')\n",
    "        \n",
    "        continue\n",
    "    except StopIteration:\n",
    "        break\n",
    "    except SleepInterruptedException:\n",
    "        break"
   ]
  },
  {
   "cell_type": "code",
   "execution_count": 5,
   "metadata": {},
   "outputs": [],
   "source": [
    "data_set = process_results(result)"
   ]
  },
  {
   "cell_type": "code",
   "execution_count": 6,
   "metadata": {},
   "outputs": [],
   "source": [
    "data_set.to_excel('./dataset/pfizer1013-1019.xlsx', index=False) # 주피터노트북 끄기 전에 반드시 저장을 따로 실행하고 저장됬는지 확인"
   ]
  },
  {
   "cell_type": "code",
   "execution_count": null,
   "metadata": {},
   "outputs": [],
   "source": []
  }
 ],
 "metadata": {
  "kernelspec": {
   "display_name": "Python 3",
   "language": "python",
   "name": "python3"
  },
  "language_info": {
   "codemirror_mode": {
    "name": "ipython",
    "version": 3
   },
   "file_extension": ".py",
   "mimetype": "text/x-python",
   "name": "python",
   "nbconvert_exporter": "python",
   "pygments_lexer": "ipython3",
   "version": "3.6.12"
  }
 },
 "nbformat": 4,
 "nbformat_minor": 4
}
